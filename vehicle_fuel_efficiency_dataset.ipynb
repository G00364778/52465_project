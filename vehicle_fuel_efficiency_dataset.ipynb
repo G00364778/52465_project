{
 "cells": [
  {
   "cell_type": "markdown",
   "metadata": {},
   "source": [
    "# Project - Programming for Data Analysis "
   ]
  },
  {
   "cell_type": "markdown",
   "metadata": {},
   "source": [
    "## Problem statement \n",
    "\n",
    "For this project you must create a data set by simulating a real-world phenomenon of your choosing. You may pick any phenomenon you wish – you might pick one that is of interest to you in your personal or professional life. Then, rather than collect data related to the phenomenon, you should model and synthesise such data using Python. We suggest you use the numpy.random package for this purpose. \n",
    "\n",
    "Speciﬁcally, in this project you should: \n",
    "\n",
    "- Choose a real-world phenomenon that can be measured and for which you could collect at least one-hundred data points across at least four diﬀerent variables. \n",
    "- Investigate the types of variables involved, their likely distributions, and their relationships with each other. \n",
    "- Synthesise/simulate a data set as closely matching their properties as possible. \n",
    "- Detail your research and implement the simulation in a Jupyter notebook – the data set itself can simply be displayed in an output cell within the notebook. \n",
    "\n",
    "Note that this project is about simulation – you must synthesise a data set. Some students may already have some real-world data sets in their own ﬁles. It is okay to base your synthesised data set on these should you wish (please reference it if you do), but the main task in this project is to create a synthesised data set. The next section gives an example project idea.\n"
   ]
  },
  {
   "cell_type": "markdown",
   "metadata": {},
   "source": [
    "## Example project idea \n",
    "\n",
    "the performance of students studying a ten-credit module. \n",
    "\n",
    "most interesting variable - grade\n",
    "number of hours on average a student studies per week (hours), \n",
    "the number of times they log onto Moodle in the ﬁrst three weeks of term (logins), \n",
    "and their previous level of degree qualiﬁcation (qual) \n",
    "\n",
    "The hours and grade variables will be non-negative real number with two decimal places, d to grade. \n",
    "logins will be a non-zero integer \n",
    "and qual will be a categorical variable with four possible values: none, bachelors, masters, or phd. \n",
    "four hours per week with a standard deviation of a quarter of an hour \n",
    "\n",
    "and that a normal distribution is an acceptable model of such a variable. \n",
    "Likewise, I investigate the other four variables, \n",
    "and I also look at the relationships between the variables. \n",
    "\n",
    "I devise an algorithm (or method) to generate such a data set, \n",
    "simulating values of the four variables for two-hundred students. \n",
    "I detail all this work in my notebook, \n",
    "and then I add some code in to generate a data set with those properties.\n"
   ]
  },
  {
   "cell_type": "markdown",
   "metadata": {},
   "source": [
    "## Researching a real world application of interest\n",
    "\n",
    "Going through various articles on datasets and data collections across the spectrum of topics, a personal topic of interest is the factors having an effect and influence  automotive fuel efficiency.\n",
    "\n",
    "Having reviewed several articles on the topic, there seems to be many technical reasons for less than optimal fuel efficiency and the technical issues really comes down to maintenance or a lack thereof. A lot of the other factors comes down to driving style and really becomes temperament and age related. Other factors coming nit play is the size of the vehicle, distance of the commute and weather conditions, so all in all a reasonable set of conditions that can make an interesting dataset."
   ]
  },
  {
   "cell_type": "markdown",
   "metadata": {},
   "source": [
    "[[https://www.google.ie/search?ei=JYb0W4_rJ4vikgWh2YeIDA&q=factors+influencing+fuel+consumption&oq=factors+influencing+fuel+consumption&gs_l=psy-ab.3..0i22i30l9.138940.154082..154848...0.0..0.107.2555.35j1......0....1..gws-wiz.......0j0i71j0i67j0i131i67j0i131j0i10j0i13i30.B8fbKVxlciY]]"
   ]
  },
  {
   "cell_type": "markdown",
   "metadata": {},
   "source": []
  },
  {
   "cell_type": "markdown",
   "metadata": {},
   "source": []
  },
  {
   "cell_type": "markdown",
   "metadata": {},
   "source": [
    "## References\n",
    "\n",
    "1. __[5 Ways to Find Interesting Data Sets](https://www.dataquest.io/blog/5-ways-to-find-interesting-data-sets/)__\n",
    "1. __[18 places to find data sets for data science projects](https://www.dataquest.io/blog/free-datasets-for-projects/)__\n",
    "1. __[100+ Interesting Data Sets for Statistics](http://rs.io/100-interesting-data-sets-for-statistics/)__\n",
    "1. __[19 Free Public Data Sets for Your First Data Science Project](https://www.springboard.com/blog/free-public-data-sets-data-science-project/)__\n",
    "1. __[Cool Data Sets I’ve found](https://towardsdatascience.com/cool-data-sets-ive-found-adc17c5e55e1)__\n",
    "1. __[Summary of Links to data sources](http://hdip-data-analytics.com/resources/data_sources)__\n",
    "1. __[13 factors that increase fuel consumption](https://www.monitor.co.ug/Business/Auto/13-factors-that-increase-fuel-consumption/688614-2738644-b69hkkz/index.html)__\n",
    "1. __[Many Factors Affect Fuel Economy](https://www.fueleconomy.gov/feg/factors.shtml)__\n",
    "1. __[Want Your MPG? 10 Factors That Affect Fuel Economy](https://www.newgateschool.org/blog/entry/want-your-mpg-10-factors-that-affect-fuel-economy)__\n",
    "1. __[How to Reduce Fuel Consumption](https://www.carsdirect.com/car-buying/10-ways-to-lower-engine-fuel-consumption)__\n",
    "1. __[8 Main Causes of Bad Gas Mileage](https://www.carsdirect.com/car-buying/8-main-causes-of-bad-gas-mileage)__\n",
    "1. __[]()__\n",
    "1. __[Cars Dataset](http://www.rpubs.com/dksmith01/cars)__\n",
    "1. __[]()__\n",
    "1. __[]()__\n",
    "1. __[Github Markdown reference](https://guides.github.com/features/mastering-markdown/)__\n",
    "1. __[Jupyter Markdown reference](https://jupyter-notebook.readthedocs.io/en/stable/examples/Notebook/Working%20With%20Markdown%20Cells.html)__\n",
    "1. __[Latex Reference](http://www.malinc.se/math/latex/basiccodeen.php)__"
   ]
  },
  {
   "cell_type": "markdown",
   "metadata": {},
   "source": []
  }
 ],
 "metadata": {
  "kernelspec": {
   "display_name": "Python 3",
   "language": "python",
   "name": "python3"
  },
  "language_info": {
   "codemirror_mode": {
    "name": "ipython",
    "version": 3
   },
   "file_extension": ".py",
   "mimetype": "text/x-python",
   "name": "python",
   "nbconvert_exporter": "python",
   "pygments_lexer": "ipython3",
   "version": "3.6.6"
  }
 },
 "nbformat": 4,
 "nbformat_minor": 2
}
